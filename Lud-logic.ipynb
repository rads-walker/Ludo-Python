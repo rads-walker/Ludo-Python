{
 "cells": [
  {
   "cell_type": "code",
   "execution_count": 2,
   "metadata": {},
   "outputs": [],
   "source": [
    "from random import randint\n",
    "import numpy as np\n",
    "from copy import deepcopy"
   ]
  },
  {
   "cell_type": "code",
   "execution_count": 10,
   "metadata": {},
   "outputs": [],
   "source": [
    "def isWinner(jogadores):\n",
    "    for x in jogadores[:]:\n",
    "        if x == 4:\n",
    "            return False\n",
    "    return True\n",
    "\n",
    "def checkDice(dice, x):\n",
    "    if(dice != 6):\n",
    "        #print(\"diferente\")\n",
    "        if x == 3:\n",
    "            #print(\"Zera\")\n",
    "            x = 0\n",
    "        else:\n",
    "            #print(\"Incrementa\")\n",
    "            x = x + 1\n",
    "    #else:\n",
    "        #print(\"Repete\")\n",
    "    return x\n",
    "\n",
    "\n",
    "def checkBestmove(dice, x, jogadores, tabuleiro):\n",
    "    if   downCowries(dice, x, jogadores, tabuleiro):\n",
    "        print(\"derrubar\")\n",
    "        return True\n",
    "    elif dice == 1 or dice == 6:\n",
    "         if freeCowries(dice, x, jogadores, tabuleiro):\n",
    "            print(\"liberar\")\n",
    "            return True\n",
    "    elif freeMove(dice, x, jogadores, tabuleiro):\n",
    "        print(\"mover\")\n",
    "        return True\n",
    "    \n",
    "def downCowries(dice, x, jogadores, tabuleiro):\n",
    "    jogadortemp = jogadores[x,:1]\n",
    "    count = 0\n",
    "    for z in jogadortemp:\n",
    "        npos = z + dice\n",
    "        for k in jogadores:\n",
    "            if count == x:\n",
    "                break\n",
    "            for y in k:\n",
    "                if npos == y:\n",
    "                    z = npos\n",
    "                    y = 0\n",
    "                    return True\n",
    "        count = count + 1\n",
    "    return False\n",
    "\n",
    "def freeCowries(dice, x, jogadores, tabuleiro):\n",
    "    if(dice == 1 or dice == 6) and (jogadores[x,0] < 3): \n",
    "        jogadores[x,0] += 1\n",
    "        return True\n",
    "    return False\n",
    "\n",
    "def freeMove(dice, x, jogadores, tabuleiro):\n",
    "    '''\n",
    "    mx = jogadores[x, 1]\n",
    "    pos = 1\n",
    "    for k in jogadores[x, 1:]:\n",
    "        if mx < k:\n",
    "            mx = k\n",
    "        pos = pos + 1\n",
    "    jogadores[mx,pos] = dice\n",
    "    print(\"Moveu\")\n",
    "    print(pos, mx, jogadores[x,pos])\n",
    "    return True\n",
    "    '''\n",
    "    "
   ]
  },
  {
   "cell_type": "code",
   "execution_count": 11,
   "metadata": {
    "scrolled": false
   },
   "outputs": [
    {
     "name": "stdout",
     "output_type": "stream",
     "text": [
      "4\n",
      "d x P\n",
      "4 0 0\n",
      "d x P\n",
      "4 1 0\n",
      "d x P\n",
      "5 2 0\n",
      "d x P\n",
      "6 3 0\n",
      "d x P\n",
      "2 3 1\n",
      "tem peça\n"
     ]
    },
    {
     "ename": "IndexError",
     "evalue": "index 5 is out of bounds for axis 1 with size 5",
     "output_type": "error",
     "traceback": [
      "\u001b[1;31m---------------------------------------------------------------------------\u001b[0m",
      "\u001b[1;31mIndexError\u001b[0m                                Traceback (most recent call last)",
      "\u001b[1;32m<ipython-input-11-3a0c9b769279>\u001b[0m in \u001b[0;36m<module>\u001b[1;34m\u001b[0m\n\u001b[0;32m     24\u001b[0m     \u001b[1;32melif\u001b[0m\u001b[1;33m(\u001b[0m\u001b[0mjogadores\u001b[0m\u001b[1;33m[\u001b[0m\u001b[0mx\u001b[0m\u001b[1;33m,\u001b[0m\u001b[1;36m0\u001b[0m\u001b[1;33m]\u001b[0m \u001b[1;33m!=\u001b[0m \u001b[1;36m0\u001b[0m\u001b[1;33m)\u001b[0m\u001b[1;33m:\u001b[0m\u001b[1;33m\u001b[0m\u001b[1;33m\u001b[0m\u001b[0m\n\u001b[0;32m     25\u001b[0m         \u001b[0mprint\u001b[0m\u001b[1;33m(\u001b[0m\u001b[1;34m\"tem peça\"\u001b[0m\u001b[1;33m)\u001b[0m\u001b[1;33m\u001b[0m\u001b[1;33m\u001b[0m\u001b[0m\n\u001b[1;32m---> 26\u001b[1;33m         \u001b[0mcheckBestmove\u001b[0m\u001b[1;33m(\u001b[0m\u001b[0mdice\u001b[0m\u001b[1;33m,\u001b[0m \u001b[0mx\u001b[0m\u001b[1;33m,\u001b[0m \u001b[0mjogadores\u001b[0m\u001b[1;33m,\u001b[0m \u001b[0mtabuleiro\u001b[0m\u001b[1;33m)\u001b[0m\u001b[1;33m\u001b[0m\u001b[1;33m\u001b[0m\u001b[0m\n\u001b[0m\u001b[0;32m     27\u001b[0m     \u001b[1;31m#passar ou não a vez\u001b[0m\u001b[1;33m\u001b[0m\u001b[1;33m\u001b[0m\u001b[1;33m\u001b[0m\u001b[0m\n\u001b[0;32m     28\u001b[0m     \u001b[0mx\u001b[0m \u001b[1;33m=\u001b[0m \u001b[0mcheckDice\u001b[0m\u001b[1;33m(\u001b[0m\u001b[0mdice\u001b[0m\u001b[1;33m,\u001b[0m \u001b[0mx\u001b[0m\u001b[1;33m)\u001b[0m\u001b[1;33m\u001b[0m\u001b[1;33m\u001b[0m\u001b[0m\n",
      "\u001b[1;32m<ipython-input-10-f50773839dd7>\u001b[0m in \u001b[0;36mcheckBestmove\u001b[1;34m(dice, x, jogadores, tabuleiro)\u001b[0m\n\u001b[0;32m     27\u001b[0m             \u001b[0mprint\u001b[0m\u001b[1;33m(\u001b[0m\u001b[1;34m\"liberar\"\u001b[0m\u001b[1;33m)\u001b[0m\u001b[1;33m\u001b[0m\u001b[1;33m\u001b[0m\u001b[0m\n\u001b[0;32m     28\u001b[0m             \u001b[1;32mreturn\u001b[0m \u001b[1;32mTrue\u001b[0m\u001b[1;33m\u001b[0m\u001b[1;33m\u001b[0m\u001b[0m\n\u001b[1;32m---> 29\u001b[1;33m     \u001b[1;32melif\u001b[0m \u001b[0mfreeMove\u001b[0m\u001b[1;33m(\u001b[0m\u001b[0mdice\u001b[0m\u001b[1;33m,\u001b[0m \u001b[0mx\u001b[0m\u001b[1;33m,\u001b[0m \u001b[0mjogadores\u001b[0m\u001b[1;33m,\u001b[0m \u001b[0mtabuleiro\u001b[0m\u001b[1;33m)\u001b[0m\u001b[1;33m:\u001b[0m\u001b[1;33m\u001b[0m\u001b[1;33m\u001b[0m\u001b[0m\n\u001b[0m\u001b[0;32m     30\u001b[0m         \u001b[0mprint\u001b[0m\u001b[1;33m(\u001b[0m\u001b[1;34m\"mover\"\u001b[0m\u001b[1;33m)\u001b[0m\u001b[1;33m\u001b[0m\u001b[1;33m\u001b[0m\u001b[0m\n\u001b[0;32m     31\u001b[0m         \u001b[1;32mreturn\u001b[0m \u001b[1;32mTrue\u001b[0m\u001b[1;33m\u001b[0m\u001b[1;33m\u001b[0m\u001b[0m\n",
      "\u001b[1;32m<ipython-input-10-f50773839dd7>\u001b[0m in \u001b[0;36mfreeMove\u001b[1;34m(dice, x, jogadores, tabuleiro)\u001b[0m\n\u001b[0;32m     60\u001b[0m             \u001b[0mmx\u001b[0m \u001b[1;33m=\u001b[0m \u001b[0mk\u001b[0m\u001b[1;33m\u001b[0m\u001b[1;33m\u001b[0m\u001b[0m\n\u001b[0;32m     61\u001b[0m         \u001b[0mpos\u001b[0m \u001b[1;33m=\u001b[0m \u001b[0mpos\u001b[0m \u001b[1;33m+\u001b[0m \u001b[1;36m1\u001b[0m\u001b[1;33m\u001b[0m\u001b[1;33m\u001b[0m\u001b[0m\n\u001b[1;32m---> 62\u001b[1;33m     \u001b[0mjogadores\u001b[0m\u001b[1;33m[\u001b[0m\u001b[0mmx\u001b[0m\u001b[1;33m,\u001b[0m\u001b[0mpos\u001b[0m\u001b[1;33m]\u001b[0m \u001b[1;33m=\u001b[0m \u001b[0mdice\u001b[0m\u001b[1;33m\u001b[0m\u001b[1;33m\u001b[0m\u001b[0m\n\u001b[0m\u001b[0;32m     63\u001b[0m     \u001b[0mprint\u001b[0m\u001b[1;33m(\u001b[0m\u001b[1;34m\"Moveu\"\u001b[0m\u001b[1;33m)\u001b[0m\u001b[1;33m\u001b[0m\u001b[1;33m\u001b[0m\u001b[0m\n\u001b[0;32m     64\u001b[0m     \u001b[0mprint\u001b[0m\u001b[1;33m(\u001b[0m\u001b[0mpos\u001b[0m\u001b[1;33m,\u001b[0m \u001b[0mmx\u001b[0m\u001b[1;33m,\u001b[0m \u001b[0mjogadores\u001b[0m\u001b[1;33m[\u001b[0m\u001b[0mx\u001b[0m\u001b[1;33m,\u001b[0m\u001b[0mpos\u001b[0m\u001b[1;33m]\u001b[0m\u001b[1;33m)\u001b[0m\u001b[1;33m\u001b[0m\u001b[1;33m\u001b[0m\u001b[0m\n",
      "\u001b[1;31mIndexError\u001b[0m: index 5 is out of bounds for axis 1 with size 5"
     ]
    }
   ],
   "source": [
    "player = [0,0,0,0,0]\n",
    "\n",
    "tabuleiro = np.zeros((54), dtype=int)\n",
    "\n",
    "a = int(input())\n",
    "\n",
    "jogadores = np.zeros((a,5), dtype=int)\n",
    "\n",
    "x = 0\n",
    "\n",
    "cont = 0\n",
    "#while(isWinner(jogadores[:,0])):\n",
    "while cont < 16:\n",
    "    #rolar o dado\n",
    "    dice = randint(1,6)\n",
    "    print(\"d\", \"x\", \"P\")\n",
    "    print(dice, x, jogadores[x,0])\n",
    "    #jogador X sem peças ingame \n",
    "    if jogadores[x,0] == 0 :\n",
    "        #condição para dado 1 ou 6 na primeira peça a ser liberada\n",
    "        if(dice == 1 or dice == 6) and (jogadores[x,0] < 3): \n",
    "            jogadores[x,0] += 1\n",
    "    #jogador X tem peças ingame\n",
    "    elif(jogadores[x,0] != 0):\n",
    "        print(\"tem peça\")  \n",
    "        checkBestmove(dice, x, jogadores, tabuleiro)\n",
    "    #passar ou não a vez\n",
    "    x = checkDice(dice, x)\n",
    "\n",
    "    cont += 1\n",
    "    \n",
    "print(jogadores)\n",
    "    "
   ]
  }
 ],
 "metadata": {
  "kernelspec": {
   "display_name": "Python 3",
   "language": "python",
   "name": "python3"
  },
  "language_info": {
   "codemirror_mode": {
    "name": "ipython",
    "version": 3
   },
   "file_extension": ".py",
   "mimetype": "text/x-python",
   "name": "python",
   "nbconvert_exporter": "python",
   "pygments_lexer": "ipython3",
   "version": "3.7.1"
  }
 },
 "nbformat": 4,
 "nbformat_minor": 2
}
